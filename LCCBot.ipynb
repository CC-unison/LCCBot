{
 "cells": [
  {
   "cell_type": "code",
   "execution_count": 1,
   "metadata": {},
   "outputs": [],
   "source": [
    "from chatterbot import ChatBot\n",
    "from chatterbot.trainers import ListTrainer"
   ]
  },
  {
   "cell_type": "code",
   "execution_count": 2,
   "metadata": {},
   "outputs": [],
   "source": [
    "#Creamos un bot llamado LCCBot\n",
    "chatbot = ChatBot('LCCBot',logic_adapters=[{'import_path': 'chatterbot.logic.BestMatch'},])"
   ]
  },
  {
   "cell_type": "code",
   "execution_count": 3,
   "metadata": {},
   "outputs": [
    {
     "name": "stdout",
     "output_type": "stream",
     "text": [
      "List Trainer: [####################] 100%\n"
     ]
    }
   ],
   "source": [
    "trainer = ListTrainer(chatbot)\n",
    "\n",
    "trainer.train([\n",
    "\"Que ocupa para titularme de LCC?\",\n",
    "\"Haber cubierto todos los créditos del programa, haber obtenido por lo menos 900 puntos  en el EGEL del CENEVAL, haber cumplido con el Servicio Social, haber satisfecho con los requerimientos específicos para la opción de titulación seleccionada y cumplir con los requisitos establecidos en los artículos 84 y 85 del Reglamento Escolar vigente.\",\n",
    "\"¿Cuántos créditos tengo que completar?\",\n",
    "\"Debes de completar 383 créditos para titularte de LCC\",\n",
    "\"Donde puedo ver cuántos créditos llevó completado? \",\n",
    "\"Puedes consultar tus créditos completados en el portal de alumnos > Mis Materias > Kardex > Resumen \",\n",
    "\"Que ocupa para titularme de LCC?\",\n",
    "\"Haber cubierto todos los créditos del programa, haber obtenido por lo menos 900 puntos  en el EGEL del CENEVAL, haber cumplido con el Servicio Social, haber satisfecho con los requerimientos específicos para la opción de titulación seleccionada y cumplir con los requisitos establecidos en los artículos 84 y 85 del Reglamento Escolar vigente.\",\n",
    "\"Cómo presentar el EGEL?\",\n",
    "\"Puedes consultar el como presentar el EGEL en: https://serviciosescolares.unison.mx/titulacion-por-ceneval/\",\n",
    "\"Que ocupa para titularme de LCC?\",\n",
    "\"Haber cubierto todos los créditos del programa, haber obtenido por lo menos 900 puntos  en el EGEL del CENEVAL, haber cumplido con el Servicio Social, haber satisfecho con los requerimientos específicos para la opción de titulación seleccionada y cumplir con los requisitos establecidos en los artículos 84 y 85 del Reglamento Escolar vigente.\",\n",
    "\"Cuales son las opciones de titulación?\",\n",
    "\"Puedes revisar las opciones de titulación y sus requisitos en: https://serviciosescolares.unison.mx/opcionestitulacion/\",\n",
    "\"Donde puedo recibir ayuda con mi titulación?\",\n",
    "\"Puedes recibir ayuda para tu titulación en Servicios Escolares\",\n",
    "\"Dónde está el edificio de servicios escolares?\",\n",
    "\"La dirección de servicios escolares es: Del Conocimiento, Edificio 8A, Centro, 83000 Hermosillo, Son. \",\n",
    "\"Que ocupa para titularme de LCC?\",\n",
    "\"Haber cubierto todos los créditos del programa, haber obtenido por lo menos 900 puntos  en el EGEL del CENEVAL, haber cumplido con el Servicio Social, haber satisfecho con los requerimientos específicos para la opción de titulación seleccionada y cumplir con los requisitos establecidos en los artículos 84 y 85 del Reglamento Escolar vigente.\",\n",
    "\"Cuales son los requisitos establecidos en el artículo 84?\",\n",
    "\"Puedes consultar el articulo 84 en: https://www.unison.mx/institucional/marconormativo/reglamentosescolares/ReglamentoEscolar2017/#p=28\",\n",
    "\"Cuáles son los requisitos establecidos en el artículo 85?\",\n",
    "\"Puedes consultar el articulo 85 en: https://www.unison.mx/institucional/marconormativo/reglamentosescolares/ReglamentoEscolar2017/#p=28\",\n",
    "\"¿Qué nivel de inglés te piden para titularme?\",\n",
    "\"Debes de tener por lo menos 4 en tu nivel de inglés\",\n",
    "\"Puedo titularme con un nivel de ingles menor a 4?\",\n",
    "\"No, ocupas un nivel de inglés mayor o igual a 4 para titularte\",\n",
    "\"Donde puedo consultar mi nivel de inglés?\",\n",
    "\"Puedes consultar tu nivel de inglés en portal de alumnos > Mis Materias > Kardex > Resumen\",\n",
    "\"Cuantos puntos CULTUREST ocupo para titularme?\",\n",
    "\"Ocupas 4 puntos culturest para poder titularte\",\n",
    "\"Donde puedo consultar cuántos puntos CULTUREST ulturest llevó completado?\",\n",
    "\"Puedes consultar tus puntos culturest completados en portal de alumnos > Mis Materias >Actividades Culturales y Deportivas \",\n",
    "\"Puedo titularme si tengo menos de 4 puntos CULTUREST ?\",\n",
    "\"No, necesitas 4 puntos culturest para titularte\",\n",
    "\"Necesito puntos culturest para hacer el servicio social?\",\n",
    "\"No necesitas puntos culturest para realizar tu servicio social.\",\n",
    "\"Donde puedo consultar mi estado de titulación?\",\n",
    "\"Puedes consultar tu estado de titulación en portal de alumnos > Titulación\",\n",
    "\"Puedo titularme si debo colegiaturas?\",\n",
    "\"No puedes titularte si tienes deudas\",\n",
    "\"Donde puedo consultar mis deudas?\",\n",
    "\"Puedes consultar tus deudas en portal de alumnos > Estado de Cuenta\",\n",
    "\"Cuando puedo darme de baja de una materia?\",\n",
    "\"Puedes solicitar el darte de baja de una materia dentro de los primeros 45 días naturales contados a partir del inicio del período escolar.\",\n",
    "\"Donde puedo solicitar el darme de baja de una materia?\",\n",
    "\"Puedes solicitar el darte de baja de una materia en portal de alumnos > Mis Materias > Bajas Voluntarias\",\n",
    "\"¿Qué materias puedo dar de baja?\",\n",
    "\"Sólo podrás dar de baja las materias en las que te encuentres inscrito(a) en el ciclo actual\",\n",
    "\"Qué pasa si doy de baja una materia por equivocación?\",\n",
    "\"Si por error diste de baja alguna asignatura acude a Servicios Escolares antes de la fecha establecida por el Calendario Oficial.\",\n",
    "\"Que necesito para el servicio social?\",\n",
    "\"Puedes empezar el proceso de inscripción al servicio social después de tener el 70% de los créditos. Cumplir con el proceso de inducción al servicio social, en donde recibirá una constancia de su asistencia (Concibe por evento de inducción en semestres nones asistencia a Feria Universitaria de Servicio Social y plática de inducción y semestres pares plática de inducción, ambas de acuerdo a calendario establecido por el CISSU). Presentar para su autorización y por triplicado, el Formato F02 (anexo) al responsable de servicio social de su programa educativo o al coordinador de su división, para solicitar el registro a un proyecto en condición de aprobado. El coordinador divisional de servicio social, autoriza el registro y lo asigna a un proyecto. Atender a lo anterior conforme a los tiempos establecidos en la convocatoria.\",\n",
    "\"Donde puedo encontrar información sobre el servicio social?\",\n",
    "\"El siguiente link te llevara al manual oficial de la universidad: https://buhos.uson.mx/ServicioSocial/Avisos/mostrarAdjunto?id=NTYuV2VTSGtyY1dkbEtqdWFFZXcxLzEvMDAwMSAxMjowMDowMCBBTQ==\",\n",
    "\"¿Cuánto dura el servicio social?\",\n",
    "\"Dependiendo del proyecto y de las horas que se trabajen puede durar más de un semestre, pero todos los proyectos necesitan un mínimo de 480 horas empeñadas por participante.\",\n",
    "\"A quién puedo consultar información sobre el servicio social?\",\n",
    "\"Al coordinador divisional de servicio social\",\n",
    "\"Necesito créditos CULTUREST para hacer el servicio social?\",\n",
    "\"No, puedes realizar tu servicio social sin tener en cuenta los puntos culturest que llevas acreditados\",\n",
    "\"¿Qué son las prácticas profesionales?\",\n",
    "\"Son un conjunto de actividades y quehaceres propios de la formación profesional del estudiante, que le permite relacionarse con el medio laboral donde se desempeñará y le da la oportunidad de aplicar los conocimientos y habilidades adquiridas a través de su formación académica en el programa educativo.\",\n",
    "\"Las prácticas profesionales son obligatorias?\",\n",
    "\"Si,son obligatorias para poder titularse en LCC \",\n",
    "\"Donde puedo encontrar información sobre las prácticas profesionales?\",\n",
    "\"El reglamento oficial de las practicas se encuentra aqui: https://www.unison.mx/institucional/marconormativo/reglamentosescolares/ReglamentoPracticasProfesionales/ReglamentoPracticasProfesionales2017/ReglamentoPracticasProfesionales_2017.pdf\",\n",
    "\"¿Qué son las prácticas profesionales?\",\n",
    "\"Las prácticas profesionales serán obligatorias en todos los programas educativos de nivel licenciatura\",\n",
    "\"¿Cuánto tiempo duran las prácticas profesionales? \",\n",
    "\"Deberán satisfacer 250 horas, equivalentes a 10 créditos del plan de estudios\",\n",
    "\"A quién le puedo pedir información específica sobre las prácticas profesionales?\",\n",
    "\"Puedes pedir información específica a la coordinadora de las prácticas profesionales, Dra. Lilia Encinas Norzagaray. Puedes mandar correo a lilia.encinasnorzagaray@unison.mx\",\n",
    "\"A quién le puedo pedir información específica sobre el servicio social?\",\n",
    "\"Puedes pedir información específica a la coordinadora de Servicio Social de la División de Ciencias Sociales, Dra. Dolores Guadalupe Morales Flores. Puedes mandar correo a dolores.morales@unison.mx\",\n",
    "\"Quién es la coordinación de la carrera?\",\n",
    "\"Dra. Sonia Guadalupe Sosa León, E-mail: sonia@mat.uson.mx,\",\n",
    "\"Cómo me puedo comunicar con la coordinación de la carrera?\",\n",
    "\"Con la Dra. Sonia Guadalupe Sosa León, Tel: (662) 259-2155 ext 2486, E-mail: sonia@mat.uson.mx, Ubicación: Edificio 3K-4\",\n",
    "\"Con quién me puedo asesorar para la tesis?\",\n",
    "\"Dr. Julio Waissman Villanova. E-mail: juliowaissman@mat.uson.mx\",\n",
    "\"Dónde se ubica el edificio de LCC?\",\n",
    "\"El edificio de LCC se ubica en: Edificio 3K4, Ciencias de la Computación, Boulevard Luis Encinas y Rosales s/n, Col. Centro, Hermosillo, Sonora. CP 83000\",\n",
    "\"En qué horario está abierto el edificio?\",\n",
    "\"El edificio 3K4 está abierto en un horario de 8:00 a 14:00 horas\",\n",
    "\"¿Cuál es el número de teléfono de LCC?\",\n",
    "\"El número de teléfono es (662) 259 2155\",\n",
    "\"En qué horario se puede utilizar ese teléfono?\",\n",
    "\"El horario de atención de la línea es de 8:00 a 14:00 horas\",\n",
    "\"¿Cuál es el correo de LCC?\",\n",
    "\"El correo de LCC es computacion@mat.uson.mx\",\n",
    "\"Cuál es el contacto de LCC?\",\n",
    "\"LCC cuenta con un número de teléfono: (662) 259 2155, también cuenta con un correo electrónico: computacion@mat.uson.mx\",\n",
    "\"En qué horario se puede marcar al teléfono?\",\n",
    "\"El horario de atención de la línea es de 8:00 a 14:00 horas\",\n",
    "\"LCC tiene página web?\",\n",
    "\"La página web de LCC es https://cc.unison.mx\",\n",
    "\"¿Qué puedo encontrar en la página de LCC?\",\n",
    "\"Puedes encontrar información general de la carrera, así como el programa y plan de estudios, ubicación y el contacto de coordinación\",\n",
    "\"Dónde puedo consultar el programa de LCC?\",\n",
    "\"Puedes consultarlo desde la página de LCC: https://cc.unison.mx\",\n",
    "\"Dónde puedo consultar información general de LCC?\",\n",
    "\"Puedes consultar información en la página de LCC: https://cc.unison.mx\",\n",
    "\"Dónde puedo consultar noticias o avisos de LCC?\",\n",
    "\"En la página de LCC: https://cc.unison.mx\",\n",
    "])"
   ]
  },
  {
   "cell_type": "code",
   "execution_count": 4,
   "metadata": {},
   "outputs": [
    {
     "name": "stdout",
     "output_type": "stream",
     "text": [
      "Dependiendo del proyecto y de las horas que se trabajen puede durar más de un semestre, pero todos los proyectos necesitan un mínimo de 480 horas empeñadas por participante.\n"
     ]
    }
   ],
   "source": [
    "#Obtenemos una respuesta a partir de una palabra clave o una frase\n",
    "response = chatbot.get_response('Cuanto dura el servicio social?')\n",
    "\n",
    "print(response)"
   ]
  },
  {
   "cell_type": "code",
   "execution_count": 5,
   "metadata": {},
   "outputs": [],
   "source": [
    "from flask import Flask, render_template, request"
   ]
  },
  {
   "cell_type": "code",
   "execution_count": 6,
   "metadata": {},
   "outputs": [],
   "source": [
    "app = Flask(__name__)\n",
    "app.static_folder = 'static'"
   ]
  },
  {
   "cell_type": "code",
   "execution_count": 7,
   "metadata": {},
   "outputs": [],
   "source": [
    "@app.route(\"/\")\n",
    "def home():\n",
    "    return render_template(\"index.html\")\n",
    "\n",
    "@app.route(\"/get\")\n",
    "def get_bot_response():\n",
    "    userText = request.args.get('msg')\n",
    "    return str(chatbot.get_response(userText))"
   ]
  },
  {
   "cell_type": "code",
   "execution_count": 9,
   "metadata": {},
   "outputs": [
    {
     "name": "stdout",
     "output_type": "stream",
     "text": [
      " * Serving Flask app '__main__'\n",
      " * Debug mode: off\n"
     ]
    },
    {
     "name": "stderr",
     "output_type": "stream",
     "text": [
      "WARNING: This is a development server. Do not use it in a production deployment. Use a production WSGI server instead.\n",
      " * Running on all addresses (0.0.0.0)\n",
      " * Running on http://127.0.0.1:8081\n",
      " * Running on http://192.168.100.161:8081\n",
      "Press CTRL+C to quit\n",
      "127.0.0.1 - - [07/Dec/2022 23:32:35] \"GET / HTTP/1.1\" 200 -\n",
      "127.0.0.1 - - [07/Dec/2022 23:32:35] \"GET /static/styles/style.css HTTP/1.1\" 304 -\n",
      "127.0.0.1 - - [07/Dec/2022 23:32:35] \"GET / HTTP/1.1\" 200 -\n"
     ]
    }
   ],
   "source": [
    "if __name__ == '__main__':\n",
    "    app.run(host='0.0.0.0', port=8081)"
   ]
  },
  {
   "cell_type": "code",
   "execution_count": null,
   "metadata": {},
   "outputs": [],
   "source": []
  }
 ],
 "metadata": {
  "kernelspec": {
   "display_name": "Python 3.7.15 ('chatterbot_example')",
   "language": "python",
   "name": "python3"
  },
  "language_info": {
   "codemirror_mode": {
    "name": "ipython",
    "version": 3
   },
   "file_extension": ".py",
   "mimetype": "text/x-python",
   "name": "python",
   "nbconvert_exporter": "python",
   "pygments_lexer": "ipython3",
   "version": "3.7.15"
  },
  "orig_nbformat": 4,
  "vscode": {
   "interpreter": {
    "hash": "693b4c30aa9eff9f8d0da6dc313081d2b97deda0eb9065d9b9eb4a06793e7f36"
   }
  }
 },
 "nbformat": 4,
 "nbformat_minor": 2
}
